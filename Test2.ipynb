{
  "nbformat": 4,
  "nbformat_minor": 0,
  "metadata": {
    "colab": {
      "provenance": [],
      "authorship_tag": "ABX9TyPdKXDtD4Tq7olOlp0JQVv6",
      "include_colab_link": true
    },
    "kernelspec": {
      "name": "python3",
      "display_name": "Python 3"
    },
    "language_info": {
      "name": "python"
    }
  },
  "cells": [
    {
      "cell_type": "markdown",
      "metadata": {
        "id": "view-in-github",
        "colab_type": "text"
      },
      "source": [
        "<a href=\"https://colab.research.google.com/github/Ranjith572000/Core-Python/blob/main/Test2.ipynb\" target=\"_parent\"><img src=\"https://colab.research.google.com/assets/colab-badge.svg\" alt=\"Open In Colab\"/></a>"
      ]
    },
    {
      "cell_type": "code",
      "execution_count": null,
      "metadata": {
        "id": "7Kd6QN5bgKm7"
      },
      "outputs": [],
      "source": [
        "#Factorial\n",
        "def fact(n):\n",
        "  if n==0 or n==1:\n",
        "    return 1\n",
        "  else:\n",
        "    return n*fact(n-1)"
      ]
    },
    {
      "cell_type": "code",
      "source": [
        "num=int(input(\"Enter the value: \"))\n",
        "if num<0:\n",
        "  print(\"Negative Number Can't find Factorial value\")\n",
        "else:\n",
        "  result=fact(num)\n",
        "  print(\"Factorial of \",num,\"is\",result)"
      ],
      "metadata": {
        "colab": {
          "base_uri": "https://localhost:8080/"
        },
        "id": "4WIlHL8ChMh3",
        "outputId": "d11872d7-11fb-4062-d6db-f3ebc6a55697"
      },
      "execution_count": null,
      "outputs": [
        {
          "output_type": "stream",
          "name": "stdout",
          "text": [
            "Enter the value: 5\n",
            "Factorial of  5 is 120\n"
          ]
        }
      ]
    },
    {
      "cell_type": "code",
      "source": [
        "#print() function\n",
        "name = \"Alice\"\n",
        "age = 30\n",
        "print(\"My name is\", name, \"and I am\", age, \"years old.\")"
      ],
      "metadata": {
        "colab": {
          "base_uri": "https://localhost:8080/"
        },
        "id": "IxSLEMmEjxV8",
        "outputId": "044b568d-17a2-48c1-a8b1-dc714e9bf506"
      },
      "execution_count": null,
      "outputs": [
        {
          "output_type": "stream",
          "name": "stdout",
          "text": [
            "My name is Alice and I am 30 years old.\n"
          ]
        }
      ]
    },
    {
      "cell_type": "code",
      "source": [
        "#len() function\n",
        "text = \"Hello, World!\"\n",
        "length = len(text)\n",
        "print(length)\n"
      ],
      "metadata": {
        "colab": {
          "base_uri": "https://localhost:8080/"
        },
        "id": "M_L6cQw-sxhH",
        "outputId": "69d9d207-ac63-49d0-f71d-7aca6c1260c9"
      },
      "execution_count": null,
      "outputs": [
        {
          "output_type": "stream",
          "name": "stdout",
          "text": [
            "13\n"
          ]
        }
      ]
    },
    {
      "cell_type": "code",
      "source": [
        "#type() function\n",
        "Name=\"Ranjith\"\n",
        "print(\"Ranjith is\",type(Name))\n",
        "Age=23\n",
        "print(\"23 is\",type(Age))\n",
        "Hieght=142.73\n",
        "print(\"142.73 is\",type(Hieght))\n"
      ],
      "metadata": {
        "colab": {
          "base_uri": "https://localhost:8080/"
        },
        "id": "A8qsEynvtLks",
        "outputId": "46f790dc-d144-4647-84be-889a39115c8d"
      },
      "execution_count": null,
      "outputs": [
        {
          "output_type": "stream",
          "name": "stdout",
          "text": [
            "Ranjith is <class 'str'>\n",
            "23 is <class 'int'>\n",
            "142.73 is <class 'float'>\n"
          ]
        }
      ]
    },
    {
      "cell_type": "code",
      "source": [
        "#input() function\n",
        "Name=input(\"Enter your name: \")\n",
        "print(\"Hi, I'm \", Name)\n",
        "Age=int(input(\"Enter your age: \"))\n",
        "print(\"My age is\", Age)"
      ],
      "metadata": {
        "colab": {
          "base_uri": "https://localhost:8080/"
        },
        "id": "DuAfLIZfv6EZ",
        "outputId": "6c9d40c2-0985-4ea8-96af-02fdd7cb2d2d"
      },
      "execution_count": null,
      "outputs": [
        {
          "output_type": "stream",
          "name": "stdout",
          "text": [
            "Enter your name: Ranjith\n",
            "Hi, I'm  Ranjith\n",
            "Enter your age: 23\n",
            "My age is 23\n"
          ]
        }
      ]
    },
    {
      "cell_type": "code",
      "source": [
        "#range() function\n",
        "for i in range(5):\n",
        "    print(i, end=\" \")"
      ],
      "metadata": {
        "colab": {
          "base_uri": "https://localhost:8080/"
        },
        "id": "in8-BTlDxjSg",
        "outputId": "a6357103-b148-430b-cdc5-cfe12233990a"
      },
      "execution_count": null,
      "outputs": [
        {
          "output_type": "stream",
          "name": "stdout",
          "text": [
            "0 1 2 3 4 "
          ]
        }
      ]
    },
    {
      "cell_type": "code",
      "source": [
        "#LCM\n",
        "def gcd(a, b):\n",
        "    while b:\n",
        "        a, b = b, a % b\n",
        "    return a\n",
        "\n",
        "def lcm(a, b):\n",
        "    return (a * b) // gcd(a, b)\n",
        "\n",
        "num1 = int(input(\"Enter the first number: \"))\n",
        "num2 = int(input(\"Enter the second number: \"))\n",
        "\n",
        "result = lcm(num1, num2)\n",
        "print(f\"The LCM of {num1} and {num2} is {result}\")"
      ],
      "metadata": {
        "colab": {
          "base_uri": "https://localhost:8080/"
        },
        "id": "cLtR9Ix2yp_R",
        "outputId": "1c0498dd-e4f0-46b6-ff99-6b455d1d3596"
      },
      "execution_count": null,
      "outputs": [
        {
          "output_type": "stream",
          "name": "stdout",
          "text": [
            "Enter the first number: 4\n",
            "Enter the second number: 88\n",
            "The LCM of 4 and 88 is 88\n"
          ]
        }
      ]
    },
    {
      "cell_type": "code",
      "source": [
        "#fibonacci\n",
        "def fibonacci(n):\n",
        "    if n <= 0:\n",
        "        return []\n",
        "    elif n == 1:\n",
        "        return [0]\n",
        "    elif n == 2:\n",
        "        return [0, 1]\n",
        "    else:\n",
        "        fib_series = fibonacci(n - 1)\n",
        "        fib_series.append(fib_series[-1] + fib_series[-2])\n",
        "        return fib_series\n",
        "\n",
        "# Input from the user\n",
        "terms = int(input(\"Enter the number of terms: \"))\n",
        "\n",
        "fibonacci_series = fibonacci(terms)\n",
        "print(\"Fibonacci Series:\", fibonacci_series)"
      ],
      "metadata": {
        "colab": {
          "base_uri": "https://localhost:8080/"
        },
        "id": "WM2YC0_r0cek",
        "outputId": "d5484fc2-ab11-4e1c-8817-add938697e76"
      },
      "execution_count": null,
      "outputs": [
        {
          "output_type": "stream",
          "name": "stdout",
          "text": [
            "Enter the number of terms: 8\n",
            "Fibonacci Series: [0, 1, 1, 2, 3, 5, 8, 13]\n"
          ]
        }
      ]
    }
  ]
}