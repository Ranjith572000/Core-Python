{
 "cells": [
  {
   "cell_type": "code",
   "execution_count": null,
   "id": "a079bf18",
   "metadata": {},
   "outputs": [],
   "source": [
    "#Square of a Number\n",
    "a=int(input('Enter the Number: '))\n",
    "print(a*a)"
   ]
  },
  {
   "cell_type": "code",
   "execution_count": null,
   "id": "6b865467",
   "metadata": {},
   "outputs": [],
   "source": [
    "#Celsius to Fahrenheit\n",
    "celsius=float(input('Enter the celsius: '))\n",
    "fahrenheit=(celsius * 9/5) + 32\n",
    "print(fahrenheit,'F')"
   ]
  },
  {
   "cell_type": "code",
   "execution_count": null,
   "id": "ff79aa43",
   "metadata": {},
   "outputs": [],
   "source": [
    "#Check the Number is Positive, Negative or Zero\n",
    "b=int(input('Enter the Number: '))\n",
    "if b<0:\n",
    "    print(b,'is Negative')\n",
    "elif b>0:\n",
    "    print(b,'is Positive')\n",
    "else:\n",
    "    print('Zero')"
   ]
  },
  {
   "cell_type": "code",
   "execution_count": null,
   "id": "4d35e34f",
   "metadata": {},
   "outputs": [],
   "source": [
    "#Largest Number\n",
    "num1=int(input('Enter the Number1: '))\n",
    "num2=int(input('Enter the Number2: '))\n",
    "num3=int(input('Enter the Number3: '))\n",
    "if num1>=num2 and num1>=num3:\n",
    "    print(num1,\"is Greater\")\n",
    "elif num2>=num1 and num2>=num3:\n",
    "    print(num2,\"is Greater\")\n",
    "else:\n",
    "    print(num3,'is Greater')"
   ]
  },
  {
   "cell_type": "code",
   "execution_count": null,
   "id": "0c577767",
   "metadata": {},
   "outputs": [],
   "source": []
  }
 ],
 "metadata": {
  "kernelspec": {
   "display_name": "Python 3 (ipykernel)",
   "language": "python",
   "name": "python3"
  },
  "language_info": {
   "codemirror_mode": {
    "name": "ipython",
    "version": 3
   },
   "file_extension": ".py",
   "mimetype": "text/x-python",
   "name": "python",
   "nbconvert_exporter": "python",
   "pygments_lexer": "ipython3",
   "version": "3.9.13"
  }
 },
 "nbformat": 4,
 "nbformat_minor": 5
}
